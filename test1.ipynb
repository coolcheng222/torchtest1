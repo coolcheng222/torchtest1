{
 "cells": [
  {
   "cell_type": "code",
   "execution_count": null,
   "metadata": {},
   "outputs": [],
   "source": [
    "import os\n",
    "import sys\n",
    "import math\n",
    "\n",
    "from collections import Counter\n",
    "import numpy as np \n",
    "import random\n",
    "\n",
    "import torch\n",
    "import torch.nn as nn\n",
    "import torch.nn.functional as F \n",
    "\n",
    "# 这俩是nlp工具包\n",
    "import nltk\n",
    "import jieba"
   ]
  },
  {
   "cell_type": "markdown",
   "metadata": {},
   "source": [
    "> 句子开头是BOS,结尾是EOS"
   ]
  },
  {
   "cell_type": "code",
   "execution_count": null,
   "metadata": {},
   "outputs": [],
   "source": [
    "def load_data(in_file):\n",
    "    cn = []\n",
    "    en = []\n",
    "    num_examples = 0\n",
    "    with open(in_file,'r') as f:\n",
    "        for line in f:\n",
    "            line = line.strip().split('\\t') # 英文\\t中文\n",
    "            en.append(['BOS'] + nltk.word_tokenize(line[0].lower()) + ['EOS']) \n",
    "            # word_tokenize将英文句子拆成一个个单词,下面的中文cut也是一样的效果(拆成词语)\n",
    "            cn.append(['BOS'] + list(jiesba.cut(line[1])) + ['EOS'])\n",
    "\n",
    "train_finle = 'nmt/en-cn/train.txt'\n",
    "dev_file = 'nmt/en-cn/dev.txt'\n",
    "train_en,train_cn = load_data(train_file)\n",
    "dev_en,dev_cn = load_data(dev_file)"
   ]
  }
 ],
 "metadata": {
  "language_info": {
   "codemirror_mode": {
    "name": "ipython",
    "version": 3
   },
   "file_extension": ".py",
   "mimetype": "text/x-python",
   "name": "python",
   "nbconvert_exporter": "python",
   "pygments_lexer": "ipython3",
   "version": 3
  },
  "orig_nbformat": 2
 },
 "nbformat": 4,
 "nbformat_minor": 2
}